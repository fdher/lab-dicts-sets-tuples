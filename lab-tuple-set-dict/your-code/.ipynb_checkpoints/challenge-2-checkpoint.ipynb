{
 "cells": [
  {
   "cell_type": "markdown",
   "metadata": {},
   "source": [
    "## Challenge 2: Sets\n",
    "\n",
    "There are a lot to learn about Python Sets and the information presented in the lesson is limited due to its length. To learn Python Sets in depth you are strongly encouraged to review the W3Schools tutorial on [Python Sets Examples and Methods](https://www.w3schools.com/python/python_sets.asp) before you work on this lab. Some difficult questions in this lab have their solutions in the W3Schools tutorial.\n",
    "\n",
    "#### First, import the Python `random` libary"
   ]
  },
  {
   "cell_type": "code",
   "execution_count": 9,
   "metadata": {},
   "outputs": [],
   "source": [
    "import random"
   ]
  },
  {
   "cell_type": "markdown",
   "metadata": {},
   "source": [
    "#### In the cell below, create a list named `sample_list_1` with 80 random values. \n",
    "\n",
    "Requirements:\n",
    "\n",
    "* Each value is an integer falling between 0 and 100.\n",
    "* Each value in the list is unique.\n",
    "\n",
    "Print `sample_list_1` to review its values\n",
    "\n",
    "*Hint: use `random.sample` ([reference](https://docs.python.org/3/library/random.html#random.sample)).*"
   ]
  },
  {
   "cell_type": "code",
   "execution_count": 49,
   "metadata": {},
   "outputs": [
    {
     "name": "stdout",
     "output_type": "stream",
     "text": [
      "[73, 87, 42, 68, 100, 57, 54, 24, 88, 27, 64, 62, 73, 67, 4, 92, 91, 62, 77, 54, 70, 84, 43, 67, 99, 93, 25, 1, 78, 48, 17, 88, 9, 95, 61, 47, 51, 26, 63, 101, 13, 62, 91, 17, 55, 41, 40, 53, 41, 13, 83, 54, 61, 32, 88, 31, 30, 95, 64, 43, 91, 86, 1, 94, 70, 65, 71, 72, 59, 0, 43, 2, 64, 80, 16, 100, 93, 88, 12, 6]\n",
      "80\n"
     ]
    }
   ],
   "source": [
    "# Your code here\n",
    "\n",
    "sample_list_1=[]\n",
    "\n",
    "while len(sample_list_1)<80:\n",
    "    sample_list_1.append(random.randint(0,101))\n",
    "\n",
    "print(sample_list_1)\n",
    "print(len(sample_list_1))"
   ]
  },
  {
   "cell_type": "code",
   "execution_count": 51,
   "metadata": {},
   "outputs": [
    {
     "name": "stdout",
     "output_type": "stream",
     "text": [
      "El numero 73 se repite 2\n",
      "El numero 87 se repite 1\n",
      "El numero 42 se repite 1\n",
      "El numero 68 se repite 1\n",
      "El numero 100 se repite 2\n",
      "El numero 57 se repite 1\n",
      "El numero 54 se repite 3\n",
      "El numero 24 se repite 1\n",
      "El numero 88 se repite 4\n",
      "El numero 27 se repite 1\n",
      "El numero 64 se repite 3\n",
      "El numero 62 se repite 3\n",
      "El numero 73 se repite 2\n",
      "El numero 67 se repite 2\n",
      "El numero 4 se repite 1\n",
      "El numero 92 se repite 1\n",
      "El numero 91 se repite 3\n",
      "El numero 62 se repite 3\n",
      "El numero 77 se repite 1\n",
      "El numero 54 se repite 3\n",
      "El numero 70 se repite 2\n",
      "El numero 84 se repite 1\n",
      "El numero 43 se repite 3\n",
      "El numero 67 se repite 2\n",
      "El numero 99 se repite 1\n",
      "El numero 93 se repite 2\n",
      "El numero 25 se repite 1\n",
      "El numero 1 se repite 2\n",
      "El numero 78 se repite 1\n",
      "El numero 48 se repite 1\n",
      "El numero 17 se repite 2\n",
      "El numero 88 se repite 4\n",
      "El numero 9 se repite 1\n",
      "El numero 95 se repite 2\n",
      "El numero 61 se repite 2\n",
      "El numero 47 se repite 1\n",
      "El numero 51 se repite 1\n",
      "El numero 26 se repite 1\n",
      "El numero 63 se repite 1\n",
      "El numero 101 se repite 1\n",
      "El numero 13 se repite 2\n",
      "El numero 62 se repite 3\n",
      "El numero 91 se repite 3\n",
      "El numero 17 se repite 2\n",
      "El numero 55 se repite 1\n",
      "El numero 41 se repite 2\n",
      "El numero 40 se repite 1\n",
      "El numero 53 se repite 1\n",
      "El numero 41 se repite 2\n",
      "El numero 13 se repite 2\n",
      "El numero 83 se repite 1\n",
      "El numero 54 se repite 3\n",
      "El numero 61 se repite 2\n",
      "El numero 32 se repite 1\n",
      "El numero 88 se repite 4\n",
      "El numero 31 se repite 1\n",
      "El numero 30 se repite 1\n",
      "El numero 95 se repite 2\n",
      "El numero 64 se repite 3\n",
      "El numero 43 se repite 3\n",
      "El numero 91 se repite 3\n",
      "El numero 86 se repite 1\n",
      "El numero 1 se repite 2\n",
      "El numero 94 se repite 1\n",
      "El numero 70 se repite 2\n",
      "El numero 65 se repite 1\n",
      "El numero 71 se repite 1\n",
      "El numero 72 se repite 1\n",
      "El numero 59 se repite 1\n",
      "El numero 0 se repite 1\n",
      "El numero 43 se repite 3\n",
      "El numero 2 se repite 1\n",
      "El numero 64 se repite 3\n",
      "El numero 80 se repite 1\n",
      "El numero 16 se repite 1\n",
      "El numero 100 se repite 2\n",
      "El numero 93 se repite 2\n",
      "El numero 88 se repite 4\n",
      "El numero 12 se repite 1\n",
      "El numero 6 se repite 1\n"
     ]
    }
   ],
   "source": [
    "for elemento in sample_list_1:\n",
    "    if elemento in sample_list_1:\n",
    "        print(\"El numero\",elemento,\"se repite\",sample_list_1.count(elemento))        "
   ]
  },
  {
   "cell_type": "markdown",
   "metadata": {},
   "source": [
    "#### Convert `sample_list_1` to a set called `set1`. Print the length of the set. Is its length still 80?"
   ]
  },
  {
   "cell_type": "code",
   "execution_count": 97,
   "metadata": {},
   "outputs": [
    {
     "name": "stdout",
     "output_type": "stream",
     "text": [
      "56\n"
     ]
    }
   ],
   "source": [
    "# Your code here\n",
    "set1=set(sample_list_1)\n",
    "print(len(set1))\n",
    "\n",
    "#No, the length varied due to the set quality that it doesn't have duplicated values"
   ]
  },
  {
   "cell_type": "markdown",
   "metadata": {},
   "source": [
    "#### Create another list named `sample_list_2` with 80 random values.\n",
    "\n",
    "Requirements:\n",
    "\n",
    "* Each value is an integer falling between 0 and 100.\n",
    "* The values in the list don't have to be unique.\n",
    "\n",
    "*Hint: Use a FOR loop.*"
   ]
  },
  {
   "cell_type": "code",
   "execution_count": 60,
   "metadata": {},
   "outputs": [
    {
     "name": "stdout",
     "output_type": "stream",
     "text": [
      "[44, 85, 86, 59, 74, 62, 0, 73, 17, 37, 14, 3, 99, 94, 77, 51, 56, 60, 13, 92, 7, 60, 36, 73, 6, 4, 44, 30, 93, 25, 100, 41, 21, 50, 74, 27, 55, 98, 48, 63, 96, 34, 55, 87, 20, 46, 83, 72, 100, 93, 67, 13, 81, 65, 97, 69, 14, 53, 88, 81, 70, 40, 48, 94, 88, 28, 15, 6, 3, 7, 61, 41, 21, 44, 65, 31, 43, 101, 33, 40]\n",
      "80\n"
     ]
    }
   ],
   "source": [
    "# Your code here\n",
    "sample_list_2=[]\n",
    "i=0\n",
    "\n",
    "for i in range(80):\n",
    "    sample_list_2.append(random.randint(0,101))\n",
    "\n",
    "print(sample_list_2)\n",
    "print(len(sample_list_2))"
   ]
  },
  {
   "cell_type": "markdown",
   "metadata": {},
   "source": [
    "#### Convert `sample_list_2` to a set called `set2`. Print the length of the set. Is its length still 80?"
   ]
  },
  {
   "cell_type": "code",
   "execution_count": 65,
   "metadata": {},
   "outputs": [
    {
     "name": "stdout",
     "output_type": "stream",
     "text": [
      "59\n",
      "{0, 3, 4, 6, 7, 13, 14, 15, 17, 20, 21, 25, 27, 28, 30, 31, 33, 34, 36, 37, 40, 41, 43, 44, 46, 48, 50, 51, 53, 55, 56, 59, 60, 61, 62, 63, 65, 67, 69, 70, 72, 73, 74, 77, 81, 83, 85, 86, 87, 88, 92, 93, 94, 96, 97, 98, 99, 100, 101}\n"
     ]
    }
   ],
   "source": [
    "# Your code here\n",
    "set2=set(sample_list_2)\n",
    "print(len(set2))\n",
    "print(set2)\n",
    "#No, current value is 59"
   ]
  },
  {
   "cell_type": "markdown",
   "metadata": {},
   "source": [
    "#### Identify the elements present in `set1` but not in `set2`. Assign the elements to a new set named `set3`."
   ]
  },
  {
   "cell_type": "code",
   "execution_count": 64,
   "metadata": {},
   "outputs": [
    {
     "name": "stdout",
     "output_type": "stream",
     "text": [
      "Number 1 is not present in set2\n",
      "Number 2 is not present in set2\n",
      "Number 9 is not present in set2\n",
      "Number 12 is not present in set2\n",
      "Number 16 is not present in set2\n",
      "Number 24 is not present in set2\n",
      "Number 26 is not present in set2\n",
      "Number 32 is not present in set2\n",
      "Number 42 is not present in set2\n",
      "Number 47 is not present in set2\n",
      "Number 54 is not present in set2\n",
      "Number 57 is not present in set2\n",
      "Number 64 is not present in set2\n",
      "Number 68 is not present in set2\n",
      "Number 71 is not present in set2\n",
      "Number 78 is not present in set2\n",
      "Number 80 is not present in set2\n",
      "Number 84 is not present in set2\n",
      "Number 91 is not present in set2\n",
      "Number 95 is not present in set2\n",
      "{1, 2, 9, 12, 16, 24, 26, 32, 42, 47, 54, 57, 64, 68, 71, 78, 80, 84, 91, 95}\n"
     ]
    }
   ],
   "source": [
    "# Your code here\n",
    "set3={}\n",
    "set3=set()\n",
    "\n",
    "for elemento in set1:\n",
    "    if elemento not in set2:\n",
    "        print(\"Number\",elemento,\"is not present in set2\")\n",
    "        set3.add(elemento)\n",
    "\n",
    "print(set3)"
   ]
  },
  {
   "cell_type": "markdown",
   "metadata": {},
   "source": [
    "#### Identify the elements present in `set2` but not in `set1`. Assign the elements to a new set named `set4`."
   ]
  },
  {
   "cell_type": "code",
   "execution_count": 71,
   "metadata": {},
   "outputs": [
    {
     "name": "stdout",
     "output_type": "stream",
     "text": [
      "Number 3 is not present in set1\n",
      "Number 7 is not present in set1\n",
      "Number 14 is not present in set1\n",
      "Number 15 is not present in set1\n",
      "Number 20 is not present in set1\n",
      "Number 21 is not present in set1\n",
      "Number 28 is not present in set1\n",
      "Number 33 is not present in set1\n",
      "Number 34 is not present in set1\n",
      "Number 36 is not present in set1\n",
      "Number 37 is not present in set1\n",
      "Number 44 is not present in set1\n",
      "Number 46 is not present in set1\n",
      "Number 50 is not present in set1\n",
      "Number 56 is not present in set1\n",
      "Number 60 is not present in set1\n",
      "Number 69 is not present in set1\n",
      "Number 74 is not present in set1\n",
      "Number 81 is not present in set1\n",
      "Number 85 is not present in set1\n",
      "Number 96 is not present in set1\n",
      "Number 97 is not present in set1\n",
      "Number 98 is not present in set1\n",
      "{3, 7, 14, 15, 20, 21, 28, 33, 34, 36, 37, 44, 46, 50, 56, 60, 69, 74, 81, 85, 96, 97, 98}\n"
     ]
    }
   ],
   "source": [
    "# Your code here\n",
    "set4={}\n",
    "set4=set()\n",
    "\n",
    "for elemento in set2:\n",
    "    if elemento not in set1:\n",
    "        print(\"Number\",elemento,\"is not present in set1\")\n",
    "        set4.add(elemento)\n",
    "print(set4)"
   ]
  },
  {
   "cell_type": "markdown",
   "metadata": {},
   "source": [
    "#### Now Identify the elements shared between `set1` and `set2`. Assign the elements to a new set named `set5`."
   ]
  },
  {
   "cell_type": "code",
   "execution_count": 73,
   "metadata": {},
   "outputs": [
    {
     "name": "stdout",
     "output_type": "stream",
     "text": [
      "{0, 1, 2, 4, 6, 9, 12, 13, 16, 17, 24, 25, 26, 27, 30, 31, 32, 40, 41, 42, 43, 47, 48, 51, 53, 54, 55, 57, 59, 61, 62, 63, 64, 65, 67, 68, 70, 71, 72, 73, 77, 78, 80, 83, 84, 86, 87, 88, 91, 92, 93, 94, 95, 99, 100, 101}\n",
      "{0, 3, 4, 6, 7, 13, 14, 15, 17, 20, 21, 25, 27, 28, 30, 31, 33, 34, 36, 37, 40, 41, 43, 44, 46, 48, 50, 51, 53, 55, 56, 59, 60, 61, 62, 63, 65, 67, 69, 70, 72, 73, 74, 77, 81, 83, 85, 86, 87, 88, 92, 93, 94, 96, 97, 98, 99, 100, 101}\n",
      "Number 0 is shared between sets\n",
      "Number 4 is shared between sets\n",
      "Number 6 is shared between sets\n",
      "Number 13 is shared between sets\n",
      "Number 17 is shared between sets\n",
      "Number 25 is shared between sets\n",
      "Number 27 is shared between sets\n",
      "Number 30 is shared between sets\n",
      "Number 31 is shared between sets\n",
      "Number 40 is shared between sets\n",
      "Number 41 is shared between sets\n",
      "Number 43 is shared between sets\n",
      "Number 48 is shared between sets\n",
      "Number 51 is shared between sets\n",
      "Number 53 is shared between sets\n",
      "Number 55 is shared between sets\n",
      "Number 59 is shared between sets\n",
      "Number 61 is shared between sets\n",
      "Number 62 is shared between sets\n",
      "Number 63 is shared between sets\n",
      "Number 65 is shared between sets\n",
      "Number 67 is shared between sets\n",
      "Number 70 is shared between sets\n",
      "Number 72 is shared between sets\n",
      "Number 73 is shared between sets\n",
      "Number 77 is shared between sets\n",
      "Number 83 is shared between sets\n",
      "Number 86 is shared between sets\n",
      "Number 87 is shared between sets\n",
      "Number 88 is shared between sets\n",
      "Number 92 is shared between sets\n",
      "Number 93 is shared between sets\n",
      "Number 94 is shared between sets\n",
      "Number 99 is shared between sets\n",
      "Number 100 is shared between sets\n",
      "Number 101 is shared between sets\n",
      "{0, 4, 6, 13, 17, 25, 27, 30, 31, 40, 41, 43, 48, 51, 53, 55, 59, 61, 62, 63, 65, 67, 70, 72, 73, 77, 83, 86, 87, 88, 92, 93, 94, 99, 100, 101}\n"
     ]
    }
   ],
   "source": [
    "# Your code here\n",
    "print(set1)\n",
    "print(set2)\n",
    "\n",
    "set5={}\n",
    "set5=set()\n",
    "\n",
    "for elemento in set2:\n",
    "    if elemento in set1:\n",
    "        print(\"Number\",elemento,\"is shared between sets\")\n",
    "        set5.add(elemento)\n",
    "print(set5)"
   ]
  },
  {
   "cell_type": "markdown",
   "metadata": {},
   "source": [
    "#### What is the relationship among the following values:\n",
    "\n",
    "* len(set1)\n",
    "* len(set2)\n",
    "* len(set3)\n",
    "* len(set4)\n",
    "* len(set5)\n",
    "\n",
    "Use a math formular to represent that relationship. Test your formular with Python code."
   ]
  },
  {
   "cell_type": "code",
   "execution_count": 76,
   "metadata": {},
   "outputs": [
    {
     "name": "stdout",
     "output_type": "stream",
     "text": [
      "56\n",
      "59\n",
      "20\n",
      "23\n",
      "36\n"
     ]
    }
   ],
   "source": [
    "# Your code here\n",
    "print(len(set1))\n",
    "print(len(set2))\n",
    "print(len(set3))\n",
    "print(len(set4))\n",
    "print(len(set5))\n",
    "\n",
    "#Set 1 and 2 have a difference of three digits, while set 3 and 4 have a difference of 3 digits as well"
   ]
  },
  {
   "cell_type": "markdown",
   "metadata": {},
   "source": [
    "#### Create an empty set called `set6`."
   ]
  },
  {
   "cell_type": "code",
   "execution_count": 77,
   "metadata": {},
   "outputs": [],
   "source": [
    "# Your code here\n",
    "set6={}\n",
    "set6=set()"
   ]
  },
  {
   "cell_type": "markdown",
   "metadata": {},
   "source": [
    "#### Add `set3` and `set5` to `set6` using the Python Set `update` method."
   ]
  },
  {
   "cell_type": "code",
   "execution_count": 78,
   "metadata": {},
   "outputs": [
    {
     "name": "stdout",
     "output_type": "stream",
     "text": [
      "{0, 1, 2, 4, 6, 9, 12, 13, 16, 17, 24, 25, 26, 27, 30, 31, 32, 40, 41, 42, 43, 47, 48, 51, 53, 54, 55, 57, 59, 61, 62, 63, 64, 65, 67, 68, 70, 71, 72, 73, 77, 78, 80, 83, 84, 86, 87, 88, 91, 92, 93, 94, 95, 99, 100, 101}\n"
     ]
    }
   ],
   "source": [
    "# Your code here\n",
    "set6.update(set5)\n",
    "set6.update(set3)\n",
    "\n",
    "print(set6)"
   ]
  },
  {
   "cell_type": "markdown",
   "metadata": {},
   "source": [
    "#### Check if `set1` and `set6` are equal."
   ]
  },
  {
   "cell_type": "code",
   "execution_count": 93,
   "metadata": {},
   "outputs": [
    {
     "name": "stdout",
     "output_type": "stream",
     "text": [
      "{1, 2, 4, 6, 9, 12, 13, 16, 17, 24, 25, 26, 27, 30, 31, 32, 40, 41, 42, 43, 47, 48, 51, 53, 54, 55, 57, 59, 61, 62, 63, 64, 65, 67, 68, 70, 71, 72, 73, 77, 78, 80, 83, 84, 86, 87, 88, 91, 92, 93, 94, 95, 99, 100, 101}\n",
      "{0, 1, 2, 4, 6, 9, 12, 13, 16, 17, 24, 25, 26, 27, 30, 31, 32, 40, 41, 42, 43, 47, 48, 51, 53, 54, 55, 57, 59, 61, 62, 63, 64, 65, 67, 68, 70, 71, 72, 73, 77, 78, 80, 83, 84, 86, 87, 88, 91, 92, 93, 94, 95, 99, 100, 101}\n"
     ]
    }
   ],
   "source": [
    "# Your code here\n",
    "if set1==set6:\n",
    "    print(\"both are equal\")\n",
    "print(set1)\n",
    "print(set6)"
   ]
  },
  {
   "cell_type": "markdown",
   "metadata": {},
   "source": [
    "#### Check if `set1` contains `set2` using the Python Set `issubset` method. Then check if `set1` contains `set3`.*"
   ]
  },
  {
   "cell_type": "code",
   "execution_count": 88,
   "metadata": {},
   "outputs": [
    {
     "name": "stdout",
     "output_type": "stream",
     "text": [
      "False\n",
      "False\n"
     ]
    }
   ],
   "source": [
    "# Your code here\n",
    "print(set1.issubset(set2))\n",
    "\n",
    "print(set1.issubset(set3))"
   ]
  },
  {
   "cell_type": "markdown",
   "metadata": {},
   "source": [
    "#### Using the Python Set `union` method, aggregate `set3`, `set4`, and `set5`. Then aggregate `set1` and `set2`. \n",
    "\n",
    "#### Check if the aggregated values are equal."
   ]
  },
  {
   "cell_type": "code",
   "execution_count": 91,
   "metadata": {},
   "outputs": [
    {
     "name": "stdout",
     "output_type": "stream",
     "text": [
      "Both sets are equal\n",
      "{0, 1, 2, 3, 4, 6, 7, 9, 12, 13, 14, 15, 16, 17, 20, 21, 24, 25, 26, 27, 28, 30, 31, 32, 33, 34, 36, 37, 40, 41, 42, 43, 44, 46, 47, 48, 50, 51, 53, 54, 55, 56, 57, 59, 60, 61, 62, 63, 64, 65, 67, 68, 69, 70, 71, 72, 73, 74, 77, 78, 80, 81, 83, 84, 85, 86, 87, 88, 91, 92, 93, 94, 95, 96, 97, 98, 99, 100, 101}\n",
      "{0, 1, 2, 3, 4, 6, 7, 9, 12, 13, 14, 15, 16, 17, 20, 21, 24, 25, 26, 27, 28, 30, 31, 32, 33, 34, 36, 37, 40, 41, 42, 43, 44, 46, 47, 48, 50, 51, 53, 54, 55, 56, 57, 59, 60, 61, 62, 63, 64, 65, 67, 68, 69, 70, 71, 72, 73, 74, 77, 78, 80, 81, 83, 84, 85, 86, 87, 88, 91, 92, 93, 94, 95, 96, 97, 98, 99, 100, 101}\n"
     ]
    }
   ],
   "source": [
    "# Your code here\n",
    "i=set3.union(set4)\n",
    "j=i.union(set5)\n",
    "\n",
    "k=set1.union(set2)\n",
    "\n",
    "if k==j:\n",
    "    print('Both sets are equal')\n",
    "\n",
    "print(k)\n",
    "print(j)"
   ]
  },
  {
   "cell_type": "markdown",
   "metadata": {},
   "source": [
    "#### Using the `pop` method, remove the first element from `set1`."
   ]
  },
  {
   "cell_type": "code",
   "execution_count": 98,
   "metadata": {},
   "outputs": [
    {
     "name": "stdout",
     "output_type": "stream",
     "text": [
      "{0, 1, 2, 4, 6, 9, 12, 13, 16, 17, 24, 25, 26, 27, 30, 31, 32, 40, 41, 42, 43, 47, 48, 51, 53, 54, 55, 57, 59, 61, 62, 63, 64, 65, 67, 68, 70, 71, 72, 73, 77, 78, 80, 83, 84, 86, 87, 88, 91, 92, 93, 94, 95, 99, 100, 101}\n"
     ]
    },
    {
     "data": {
      "text/plain": [
       "56"
      ]
     },
     "execution_count": 98,
     "metadata": {},
     "output_type": "execute_result"
    }
   ],
   "source": [
    "# Your code here\n",
    "# set1.pop()\n",
    "\n",
    "print(set1)\n",
    "len(set1)"
   ]
  },
  {
   "cell_type": "markdown",
   "metadata": {},
   "source": [
    "#### Remove every element in the following list from `set1` if they are present in the set. Print the remaining elements.\n",
    "\n",
    "```\n",
    "list_to_remove = [1, 9, 11, 19, 21, 29, 31, 39, 41, 49, 51, 59, 61, 69, 71, 79, 81, 89, 91, 99]\n",
    "```"
   ]
  },
  {
   "cell_type": "code",
   "execution_count": 99,
   "metadata": {},
   "outputs": [
    {
     "name": "stdout",
     "output_type": "stream",
     "text": [
      "{0, 2, 4, 6, 12, 13, 16, 17, 24, 25, 26, 27, 30, 32, 40, 42, 43, 47, 48, 53, 54, 55, 57, 62, 63, 64, 65, 67, 68, 70, 72, 73, 77, 78, 80, 83, 84, 86, 87, 88, 92, 93, 94, 95, 100, 101}\n"
     ]
    },
    {
     "data": {
      "text/plain": [
       "46"
      ]
     },
     "execution_count": 99,
     "metadata": {},
     "output_type": "execute_result"
    }
   ],
   "source": [
    "# Your code here\n",
    "list_to_remove = [1, 9, 11, 19, 21, 29, 31, 39, 41, 49, 51, 59, 61, 69, 71, 79, 81, 89, 91, 99]\n",
    "list_to_remove=set(list_to_remove)\n",
    "\n",
    "for element in list_to_remove:\n",
    "    if element in set1:\n",
    "        set1.remove(element)\n",
    "print(set1)\n",
    "len(set1)"
   ]
  }
 ],
 "metadata": {
  "kernelspec": {
   "display_name": "Python 3 (ipykernel)",
   "language": "python",
   "name": "python3"
  },
  "language_info": {
   "codemirror_mode": {
    "name": "ipython",
    "version": 3
   },
   "file_extension": ".py",
   "mimetype": "text/x-python",
   "name": "python",
   "nbconvert_exporter": "python",
   "pygments_lexer": "ipython3",
   "version": "3.9.7"
  }
 },
 "nbformat": 4,
 "nbformat_minor": 2
}
