{
 "cells": [
  {
   "cell_type": "markdown",
   "metadata": {},
   "source": [
    "## Challenge 1: Tuples\n",
    "\n",
    "#### Do you know you can create tuples with only one element?\n",
    "\n",
    "**In the cell below, define a variable `tup` with a single element `\"I\"`.**\n",
    "\n",
    "*Hint: you need to add a comma (`,`) after the single element.*"
   ]
  },
  {
   "cell_type": "code",
   "execution_count": 14,
   "metadata": {},
   "outputs": [],
   "source": [
    "# Your code here\n",
    "tup=(\"I\",)"
   ]
  },
  {
   "cell_type": "markdown",
   "metadata": {},
   "source": [
    "#### Print the type of `tup`. \n",
    "\n",
    "Make sure its type is correct (i.e. *tuple* instead of *str*)."
   ]
  },
  {
   "cell_type": "code",
   "execution_count": 15,
   "metadata": {},
   "outputs": [
    {
     "data": {
      "text/plain": [
       "tuple"
      ]
     },
     "execution_count": 15,
     "metadata": {},
     "output_type": "execute_result"
    }
   ],
   "source": [
    "# Your code here\n",
    "type(tup)"
   ]
  },
  {
   "cell_type": "code",
   "execution_count": 16,
   "metadata": {},
   "outputs": [
    {
     "name": "stdout",
     "output_type": "stream",
     "text": [
      "('I',)\n"
     ]
    }
   ],
   "source": [
    "print(tup)"
   ]
  },
  {
   "cell_type": "markdown",
   "metadata": {},
   "source": [
    "#### Now try to append the following elements to `tup`. \n",
    "\n",
    "Are you able to do it? Explain.\n",
    "\n",
    "```\n",
    "\"r\", \"o\", \"n\", \"h\", \"a\", \"c\", \"k',\n",
    "```"
   ]
  },
  {
   "cell_type": "code",
   "execution_count": 27,
   "metadata": {},
   "outputs": [
    {
     "ename": "AttributeError",
     "evalue": "'tuple' object has no attribute 'append'",
     "output_type": "error",
     "traceback": [
      "\u001b[1;31m---------------------------------------------------------------------------\u001b[0m",
      "\u001b[1;31mAttributeError\u001b[0m                            Traceback (most recent call last)",
      "\u001b[1;32mC:\\Users\\FHERNA~1\\AppData\\Local\\Temp/ipykernel_37728/3405252379.py\u001b[0m in \u001b[0;36m<module>\u001b[1;34m\u001b[0m\n\u001b[0;32m      2\u001b[0m \u001b[0mx\u001b[0m\u001b[1;33m=\u001b[0m\u001b[1;33m(\u001b[0m\u001b[1;34m\"r\"\u001b[0m\u001b[1;33m,\u001b[0m \u001b[1;34m\"o\"\u001b[0m\u001b[1;33m,\u001b[0m \u001b[1;34m\"n\"\u001b[0m\u001b[1;33m,\u001b[0m \u001b[1;34m\"h\"\u001b[0m\u001b[1;33m,\u001b[0m \u001b[1;34m\"a\"\u001b[0m\u001b[1;33m,\u001b[0m \u001b[1;34m\"c\"\u001b[0m\u001b[1;33m,\u001b[0m \u001b[1;34m\"k\"\u001b[0m\u001b[1;33m)\u001b[0m\u001b[1;33m\u001b[0m\u001b[1;33m\u001b[0m\u001b[0m\n\u001b[0;32m      3\u001b[0m \u001b[1;32mfor\u001b[0m \u001b[0melemento\u001b[0m \u001b[1;32min\u001b[0m \u001b[0mx\u001b[0m\u001b[1;33m:\u001b[0m\u001b[1;33m\u001b[0m\u001b[1;33m\u001b[0m\u001b[0m\n\u001b[1;32m----> 4\u001b[1;33m    \u001b[0mtup\u001b[0m\u001b[1;33m.\u001b[0m\u001b[0mappend\u001b[0m\u001b[1;33m(\u001b[0m\u001b[0melemento\u001b[0m\u001b[1;33m)\u001b[0m\u001b[1;33m\u001b[0m\u001b[1;33m\u001b[0m\u001b[0m\n\u001b[0m\u001b[0;32m      5\u001b[0m \u001b[0mprint\u001b[0m\u001b[1;33m(\u001b[0m\u001b[0mtup\u001b[0m\u001b[1;33m)\u001b[0m\u001b[1;33m\u001b[0m\u001b[1;33m\u001b[0m\u001b[0m\n\u001b[0;32m      6\u001b[0m \u001b[1;31m# Your explanation here\u001b[0m\u001b[1;33m\u001b[0m\u001b[1;33m\u001b[0m\u001b[0m\n",
      "\u001b[1;31mAttributeError\u001b[0m: 'tuple' object has no attribute 'append'"
     ]
    }
   ],
   "source": [
    "# Your code here\n",
    "x=(\"r\", \"o\", \"n\", \"h\", \"a\", \"c\", \"k\")\n",
    "for elemento in x:\n",
    "   tup.append(elemento)\n",
    "print(tup)\n",
    "# Your explanation here\n",
    "#Tuples can't be modified, hence the error"
   ]
  },
  {
   "cell_type": "code",
   "execution_count": 28,
   "metadata": {},
   "outputs": [
    {
     "data": {
      "text/plain": [
       "tuple"
      ]
     },
     "execution_count": 28,
     "metadata": {},
     "output_type": "execute_result"
    }
   ],
   "source": [
    "type(x)"
   ]
  },
  {
   "cell_type": "markdown",
   "metadata": {},
   "source": [
    "#### How about re-assign a new value to an existing tuple?\n",
    "\n",
    "Re-assign the following elements to `tup`. Are you able to do it? Explain.\n",
    "\n",
    "```\n",
    "\"I\", \"r\", \"o\", \"n\", \"h\", \"a\", \"c\", \"k\"\n",
    "```"
   ]
  },
  {
   "cell_type": "code",
   "execution_count": 30,
   "metadata": {},
   "outputs": [
    {
     "name": "stdout",
     "output_type": "stream",
     "text": [
      "('I', 'r', 'o', 'n', 'h', 'a', 'c', 'k')\n"
     ]
    }
   ],
   "source": [
    "# Your code here\n",
    "y=(\"I\", \"r\", \"o\", \"n\", \"h\", \"a\", \"c\", \"k\")\n",
    "tup=y\n",
    "print(y)\n",
    "# Your explanation here\n",
    "#Again, tuples are not able to be modified."
   ]
  },
  {
   "cell_type": "code",
   "execution_count": null,
   "metadata": {},
   "outputs": [],
   "source": [
    "type(tup)"
   ]
  },
  {
   "cell_type": "markdown",
   "metadata": {},
   "source": [
    "#### Split `tup` into `tup1` and `tup2` with 4 elements in each. \n",
    "\n",
    "`tup1` should be `(\"I\", \"r\", \"o\", \"n\")` and `tup2` should be `(\"h\", \"a\", \"c\", \"k\")`.\n",
    "\n",
    "*Hint: use positive index numbers for `tup1` assignment and use negative index numbers for `tup2` assignment. Positive index numbers count from the beginning whereas negative index numbers count from the end of the sequence.*\n",
    "\n",
    "Also print `tup1` and `tup2`."
   ]
  },
  {
   "cell_type": "code",
   "execution_count": 31,
   "metadata": {},
   "outputs": [
    {
     "name": "stdout",
     "output_type": "stream",
     "text": [
      "['I', 'r', 'o', 'n', 'h', 'a', 'c', 'k']\n",
      "('I', 'r', 'o', 'n')\n",
      "('h', 'a', 'c', 'k')\n"
     ]
    }
   ],
   "source": [
    "# Your code here\n",
    "tup=list(tup)\n",
    "print(tup)\n",
    "\n",
    "tup1=tup[:4]\n",
    "tup2=tup[4:]\n",
    "\n",
    "tup1=tuple(tup1)\n",
    "tup2=tuple(tup2)\n",
    "\n",
    "\n",
    "print(tup1)\n",
    "print(tup2)"
   ]
  },
  {
   "cell_type": "markdown",
   "metadata": {},
   "source": [
    "#### Add `tup1` and `tup2` into `tup3` using the `+` operator.\n",
    "\n",
    "Then print `tup3` and check if `tup3` equals to `tup`."
   ]
  },
  {
   "cell_type": "code",
   "execution_count": 32,
   "metadata": {},
   "outputs": [
    {
     "name": "stdout",
     "output_type": "stream",
     "text": [
      "Both of them are equals ('I', 'r', 'o', 'n', 'h', 'a', 'c', 'k')\n"
     ]
    }
   ],
   "source": [
    "# Your code here\n",
    "tup=tuple(tup)\n",
    "\n",
    "tup3=(tup1+tup2)\n",
    "\n",
    "if tup3==tup:\n",
    "    print(\"Both of them are equals\",tup3)\n"
   ]
  },
  {
   "cell_type": "markdown",
   "metadata": {},
   "source": [
    "#### Count the number of elements in `tup1` and `tup2`. Then add the two counts together and check if the sum is the same as the number of elements in `tup3`"
   ]
  },
  {
   "cell_type": "code",
   "execution_count": 33,
   "metadata": {},
   "outputs": [
    {
     "name": "stdout",
     "output_type": "stream",
     "text": [
      "4\n",
      "4\n",
      "8\n",
      "the total is 8\n"
     ]
    }
   ],
   "source": [
    "# Your code here\n",
    "i=0\n",
    "j=0\n",
    "k=0\n",
    "for element in tup1:\n",
    "    i+=1\n",
    "print(i)\n",
    "for element in tup2:\n",
    "    j+=1\n",
    "print(j)\n",
    "\n",
    "for element in tup3:\n",
    "    k+=1\n",
    "print(k)\n",
    "if i+j==k:\n",
    "    print(\"the total is\",k)\n"
   ]
  },
  {
   "cell_type": "markdown",
   "metadata": {},
   "source": [
    "#### What is the index number of `\"h\"` in `tup3`?"
   ]
  },
  {
   "cell_type": "code",
   "execution_count": 34,
   "metadata": {},
   "outputs": [
    {
     "data": {
      "text/plain": [
       "4"
      ]
     },
     "execution_count": 34,
     "metadata": {},
     "output_type": "execute_result"
    }
   ],
   "source": [
    "# Your code here\n",
    "tup3.index('h')"
   ]
  },
  {
   "cell_type": "markdown",
   "metadata": {},
   "source": [
    "#### Now, use a FOR loop to check whether each letter in the following list is present in `tup3`:\n",
    "\n",
    "```\n",
    "letters = [\"a\", \"b\", \"c\", \"d\", \"e\"]\n",
    "```\n",
    "\n",
    "For each letter you check, print `True` if it is present in `tup3` otherwise print `False`.\n",
    "\n",
    "*Hint: you only need to loop `letters`. You don't need to loop `tup3` because there is a Python operator `in` you can use. See [reference](https://stackoverflow.com/questions/17920147/how-to-check-if-a-tuple-contains-an-element-in-python).*"
   ]
  },
  {
   "cell_type": "code",
   "execution_count": 41,
   "metadata": {},
   "outputs": [
    {
     "name": "stdout",
     "output_type": "stream",
     "text": [
      "['I', 'r', 'o', 'n', 'h', 'a', 'c', 'k']\n",
      "['a', 'b', 'c', 'd', 'e']\n",
      "true\n",
      "The letter a is present in tup3\n",
      "false\n",
      "The letter b is not present in tup3\n",
      "true\n",
      "The letter c is present in tup3\n",
      "false\n",
      "The letter d is not present in tup3\n",
      "false\n",
      "The letter e is not present in tup3\n"
     ]
    }
   ],
   "source": [
    "# Your code here\n",
    "letters = [\"a\", \"b\", \"c\", \"d\", \"e\"]\n",
    "tup3=list(tup3)\n",
    "print(tup3)\n",
    "print(letters)\n",
    "\n",
    "for letter in letters:\n",
    "    if letter in tup3:\n",
    "        print(\"true\")\n",
    "        print(\"The letter\", letter,\"is present in tup3\")\n",
    "    else:\n",
    "        print(\"false\")\n",
    "        print(\"The letter\", letter,\"is not present in tup3\")\n",
    "\n"
   ]
  },
  {
   "cell_type": "markdown",
   "metadata": {},
   "source": [
    "#### How many times does each letter in `letters` appear in `tup3`?\n",
    "\n",
    "Print out the number of occurrence of each letter."
   ]
  },
  {
   "cell_type": "code",
   "execution_count": 48,
   "metadata": {},
   "outputs": [
    {
     "name": "stdout",
     "output_type": "stream",
     "text": [
      "true\n",
      "The letter a is present in tup3\n",
      "Letter a appears 1\n",
      "The letter b is not present in tup3\n",
      "true\n",
      "The letter c is present in tup3\n",
      "Letter c appears 1\n",
      "The letter d is not present in tup3\n",
      "The letter e is not present in tup3\n"
     ]
    },
    {
     "data": {
      "text/plain": [
       "1"
      ]
     },
     "execution_count": 48,
     "metadata": {},
     "output_type": "execute_result"
    }
   ],
   "source": [
    "# Your code herefor elemento in letters:\n",
    "for letter in letters:\n",
    "    if letter in tup3:\n",
    "        print(\"true\")\n",
    "        print(\"The letter\", letter,\"is present in tup3\")\n",
    "        print(\"Letter\", letter, \"appears\",tup3.count(letter))\n",
    "    else:\n",
    "        print(\"false\")\n",
    "        print(\"The letter\", letter,\"is not present in tup3\")"
   ]
  }
 ],
 "metadata": {
  "kernelspec": {
   "display_name": "Python 3 (ipykernel)",
   "language": "python",
   "name": "python3"
  },
  "language_info": {
   "codemirror_mode": {
    "name": "ipython",
    "version": 3
   },
   "file_extension": ".py",
   "mimetype": "text/x-python",
   "name": "python",
   "nbconvert_exporter": "python",
   "pygments_lexer": "ipython3",
   "version": "3.9.7"
  }
 },
 "nbformat": 4,
 "nbformat_minor": 2
}
